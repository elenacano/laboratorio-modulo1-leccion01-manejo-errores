{
 "cells": [
  {
   "cell_type": "markdown",
   "metadata": {},
   "source": [
    "\n",
    "<div style=\"text-align: center;\">\n",
    "  <img src=\"https://github.com/Hack-io-Data/Imagenes/blob/main/01-LogosHackio/logo_celeste@4x.png?raw=true\" alt=\"esquema\" />\n",
    "</div>\n"
   ]
  },
  {
   "cell_type": "markdown",
   "metadata": {},
   "source": [
    "# Laboratorio de Python: manejo de errores."
   ]
  },
  {
   "cell_type": "markdown",
   "metadata": {},
   "source": [
    "## Ejercicio 1: División con manejo de excepciones\n",
    "\n",
    "Escribe un programa que pida al usuario dos números e intente dividirlos. Si el usuario ingresa un valor no numérico o intenta dividir por cero, maneja esas excepciones de manera adecuada. Asegúrate de mostrar un mensaje indicando si la división fue exitosa o no.\n"
   ]
  },
  {
   "cell_type": "code",
   "execution_count": 23,
   "metadata": {},
   "outputs": [
    {
     "name": "stdout",
     "output_type": "stream",
     "text": [
      "La división ha sido exitosa y el resultado es: 0.5\n"
     ]
    }
   ],
   "source": [
    "try:\n",
    "    num1 = int(input('Ingrese el primer numero'))\n",
    "    num2 = int(input('Ingrese el segundo numero'))\n",
    "\n",
    "    div=num1/num2\n",
    "\n",
    "except ValueError:\n",
    "    print(\"El elemento introducido no es un número\")\n",
    "\n",
    "except ZeroDivisionError:\n",
    "    print(\"No se ha podido dividir entre 0\")\n",
    "\n",
    "else: #Solo se ejecuta si no ha habido excepciones\n",
    "    print(f'La división ha sido exitosa y el resultado es: {div}')\n",
    "\n"
   ]
  },
  {
   "cell_type": "markdown",
   "metadata": {},
   "source": [
    "## Ejercicio 2: Acceso a archivos\n",
    "\n",
    "Escribe un programa que intente abrir un archivo llamado \"datos.txt\". Si el archivo no existe, captura la excepción y muestra un mensaje de error. Asegúrate de cerrar el archivo correctamente en la sección `finally`.\n"
   ]
  },
  {
   "cell_type": "code",
   "execution_count": 1,
   "metadata": {},
   "outputs": [
    {
     "name": "stdout",
     "output_type": "stream",
     "text": [
      "Archivo no encontrado\n"
     ]
    }
   ],
   "source": [
    "try:\n",
    "    archivo = open(\"data.txt\", \"r\")\n",
    "\n",
    "except FileNotFoundError:\n",
    "    print(\"Archivo no encontrado\")\n",
    "\n",
    "else:\n",
    "    archivo.close()\n",
    "    print(\"El archivo no se ha abierto\")\n",
    "\n"
   ]
  },
  {
   "cell_type": "markdown",
   "metadata": {},
   "source": [
    "## Ejercicio 3: Conversión de cadenas a enteros\n",
    "\n",
    "Escribe un programa que pida una lista de números separados por comas y convierta cada valor a un número entero. Maneja las excepciones para valores que no sean convertibles y asegúrate de informar si la conversión fue exitosa o no.\n"
   ]
  },
  {
   "cell_type": "code",
   "execution_count": 32,
   "metadata": {},
   "outputs": [
    {
     "name": "stdout",
     "output_type": "stream",
     "text": [
      "La conversión ha sido exitosa: [1, 2, 3, 4]\n"
     ]
    }
   ],
   "source": [
    "cadena = input(\"Introduzca una lista de números separados por comas\")\n",
    "lista = cadena.split(',')\n",
    "lista_num =  []\n",
    "\n",
    "try:\n",
    "    for elem in lista:\n",
    "        lista_num.append(int(elem))\n",
    "\n",
    "except ValueError:\n",
    "    print(\"Todos los elementos deben ser numeros\")\n",
    "\n",
    "else:\n",
    "    print(f'La conversión ha sido exitosa: {lista_num}')"
   ]
  },
  {
   "cell_type": "markdown",
   "metadata": {},
   "source": [
    "#### Ejercicio 4: Cálculo del promedio con manejo de excepciones\n",
    "\n",
    "Escribe una función que reciba una lista de números y calcule su promedio. Si la lista está vacía, lanza una excepción personalizada y maneja el error adecuadamente.\n"
   ]
  },
  {
   "cell_type": "code",
   "execution_count": 43,
   "metadata": {},
   "outputs": [],
   "source": [
    "def media_lista(lista):\n",
    "    try:\n",
    "        media = sum(lista) / len(lista)\n",
    "        return media\n",
    "    \n",
    "    except ZeroDivisionError: \n",
    "        print(\"La lista está vacía\")"
   ]
  },
  {
   "cell_type": "code",
   "execution_count": 44,
   "metadata": {},
   "outputs": [
    {
     "name": "stdout",
     "output_type": "stream",
     "text": [
      "La lista está vacía\n"
     ]
    }
   ],
   "source": [
    "media_lista([])"
   ]
  },
  {
   "cell_type": "markdown",
   "metadata": {},
   "source": [
    "#### Ejercicio 5: Conversión segura de números\n",
    "\n",
    "Escribe un programa que convierta una cadena a número flotante e intente realizar una operación aritmética. Si la conversión falla, maneja la excepción y continúa con el flujo normal."
   ]
  },
  {
   "cell_type": "code",
   "execution_count": 48,
   "metadata": {},
   "outputs": [
    {
     "name": "stdout",
     "output_type": "stream",
     "text": [
      "6.0\n"
     ]
    }
   ],
   "source": [
    "num = input(\"Itroduzca un número\")\n",
    "\n",
    "try:\n",
    "    num = float(num)\n",
    "    print(num*2)\n",
    "\n",
    "except ValueError:\n",
    "    print(\"El valor introducido no es un número\")"
   ]
  },
  {
   "cell_type": "markdown",
   "metadata": {},
   "source": [
    "#### Ejercicio 6: Acceso a claves en diccionarios\n",
    "\n",
    "Escribe un programa que intente acceder a una clave específica en un diccionario. Si la clave no existe, maneja la excepción `KeyError` y muestra un mensaje indicando el problema."
   ]
  },
  {
   "cell_type": "code",
   "execution_count": 54,
   "metadata": {},
   "outputs": [
    {
     "name": "stdout",
     "output_type": "stream",
     "text": [
      "Laura\n",
      "La clave del diccionario a la que esta intentando acceder no existe\n"
     ]
    }
   ],
   "source": [
    "alumno = {\n",
    "    \"nombre\": \"Laura\",\n",
    "    \"edad\": 22,\n",
    "    \"carrera\": \"Biología\"\n",
    "}\n",
    "try:\n",
    "    print(alumno[\"nombre\"])\n",
    "    print(alumno[\"nota\"])\n",
    "    \n",
    "except KeyError:\n",
    "    print(\"La clave del diccionario a la que esta intentando acceder no existe\")"
   ]
  },
  {
   "cell_type": "markdown",
   "metadata": {},
   "source": [
    "\n",
    "#### Ejercicio 7: Verificación de entradas de usuario\n",
    "\n",
    "Escribe un programa que pida al usuario que introduzca su edad. Si el usuario ingresa un valor no numérico o un valor fuera del rango esperado (por ejemplo, menor que 0 o mayor que 120), maneja las excepciones adecuadamente."
   ]
  },
  {
   "cell_type": "code",
   "execution_count": 60,
   "metadata": {},
   "outputs": [
    {
     "name": "stdout",
     "output_type": "stream",
     "text": [
      "Tiene 24 años.\n"
     ]
    }
   ],
   "source": [
    "try:\n",
    "    edad = input(\"Introduzca su edad\")\n",
    "    edad = int(edad)\n",
    "    if edad < 0 or edad > 120:\n",
    "        print(\"Edad fuera del rango\")\n",
    "    else: \n",
    "        print(f'Tiene {edad} años.')\n",
    "except ValueError:\n",
    "    print(\"Introduzca un valor numérico\")"
   ]
  },
  {
   "cell_type": "markdown",
   "metadata": {},
   "source": [
    "#### Ejercicio 8: Extracción de valores de una lista\n",
    "\n",
    "Escribe una función que intente acceder a un índice específico en una lista. Si el índice está fuera del rango, maneja la excepción `IndexError` y muestra un mensaje adecuado.\n"
   ]
  },
  {
   "cell_type": "code",
   "execution_count": 61,
   "metadata": {},
   "outputs": [],
   "source": [
    "def indice_lista(lista, ind):\n",
    "    try:\n",
    "        print(lista[ind])\n",
    "    except IndexError:\n",
    "        print(\"El indice indicado esta fuera del rango de la lista\")"
   ]
  },
  {
   "cell_type": "code",
   "execution_count": 63,
   "metadata": {},
   "outputs": [
    {
     "name": "stdout",
     "output_type": "stream",
     "text": [
      "El indice indicado esta fuera del rango de la lista\n"
     ]
    }
   ],
   "source": [
    "indice_lista([1,2,3], 5)"
   ]
  },
  {
   "cell_type": "code",
   "execution_count": null,
   "metadata": {},
   "outputs": [],
   "source": []
  }
 ],
 "metadata": {
  "kernelspec": {
   "display_name": "contenido",
   "language": "python",
   "name": "python3"
  },
  "language_info": {
   "codemirror_mode": {
    "name": "ipython",
    "version": 3
   },
   "file_extension": ".py",
   "mimetype": "text/x-python",
   "name": "python",
   "nbconvert_exporter": "python",
   "pygments_lexer": "ipython3",
   "version": "3.12.4"
  }
 },
 "nbformat": 4,
 "nbformat_minor": 2
}
